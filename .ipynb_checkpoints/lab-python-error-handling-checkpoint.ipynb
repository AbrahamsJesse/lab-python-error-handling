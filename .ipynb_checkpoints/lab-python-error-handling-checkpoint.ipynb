{
 "cells": [
  {
   "cell_type": "markdown",
   "id": "25d7736c-ba17-4aff-b6bb-66eba20fbf4e",
   "metadata": {},
   "source": [
    "# Lab | Error Handling"
   ]
  },
  {
   "cell_type": "code",
   "execution_count": 1,
   "id": "f4eee7f2",
   "metadata": {},
   "outputs": [
    {
     "ename": "SyntaxError",
     "evalue": "unterminated string literal (detected at line 46) (51834818.py, line 46)",
     "output_type": "error",
     "traceback": [
      "\u001b[0;36m  Cell \u001b[0;32mIn[1], line 46\u001b[0;36m\u001b[0m\n\u001b[0;31m    Let's enhance your code by implementing error handling to handle invalid inputs.\u001b[0m\n\u001b[0m       ^\u001b[0m\n\u001b[0;31mSyntaxError\u001b[0m\u001b[0;31m:\u001b[0m unterminated string literal (detected at line 46)\n"
     ]
    }
   ],
   "source": [
    "## Exercise: Error Handling for Managing Customer Orders\n",
    "\n",
    "The implementation of your code for managing customer orders assumes that the user will always enter a valid input. \n",
    "\n",
    "For example, we could modify the `initialize_inventory` function to include error handling.\n",
    "   - If the user enters an invalid quantity (e.g., a negative value or a non-numeric value), display an error message and ask them to re-enter the quantity for that product.\n",
    "   - Use a try-except block to handle the error and continue prompting the user until a valid quantity is entered.\n",
    "\n",
    "```python\n",
    "# Step 1: Define the function for initializing the inventory with error handling\n",
    "def initialize_inventory(products):\n",
    "    inventory = {}\n",
    "    for product in products:\n",
    "        valid_quantity = False\n",
    "        while not valid_quantity:\n",
    "            try:\n",
    "                quantity = int(input(f\"Enter the quantity of {product}s available: \"))\n",
    "                if quantity < 0:\n",
    "                    raise ValueError(\"Invalid quantity! Please enter a non-negative value.\")\n",
    "                valid_quantity = True\n",
    "                \n",
    "            except ValueError as error:\n",
    "                print(f\"Error: {error}\")\n",
    "        inventory[product] = quantity\n",
    "    return inventory\n",
    "\n",
    "# Or, in another way:\n",
    "\n",
    "def initialize_inventory(products):\n",
    "    inventory = {}\n",
    "    for product in products:\n",
    "        valid_input = False\n",
    "        while not valid_input:\n",
    "            try:\n",
    "                quantity = int(input(f\"Enter the quantity of {product}s available: \"))\n",
    "                if quantity >= 0:\n",
    "                    inventory[product] = quantity\n",
    "                    valid_input = True\n",
    "                else:\n",
    "                    print(\"Quantity cannot be negative. Please enter a valid quantity.\")\n",
    "            except ValueError:\n",
    "                print(\"Invalid input. Please enter a valid quantity.\")\n",
    "    return inventory\n",
    "```\n",
    "\n",
    "Let's enhance your code by implementing error handling to handle invalid inputs.\n",
    "\n",
    "Follow the steps below to complete the exercise:\n",
    "\n",
    "2. Modify the `calculate_total_price` function to include error handling.\n",
    "   - If the user enters an invalid price (e.g., a negative value or a non-numeric value), display an error message and ask them to re-enter the price for that product.\n",
    "   - Use a try-except block to handle the error and continue prompting the user until a valid price is entered.\n",
    "\n",
    "3. Modify the `get_customer_orders` function to include error handling.\n",
    "   - If the user enters an invalid number of orders (e.g., a negative value or a non-numeric value), display an error message and ask them to re-enter the number of orders.\n",
    "   - If the user enters an invalid product name (e.g., a product name that is not in the inventory), or that doesn't have stock available, display an error message and ask them to re-enter the product name. *Hint: you will need to pass inventory as a parameter*\n",
    "   - Use a try-except block to handle the error and continue prompting the user until a valid product name is entered.\n",
    "\n",
    "4. Test your code by running the program and deliberately entering invalid quantities and product names. Make sure the error handling mechanism works as expected.\n"
   ]
  },
  {
   "cell_type": "markdown",
   "id": "cafc29cd",
   "metadata": {},
   "source": [
    "**For example, we could modify the `initialize_inventory` function to include error handling.**\n",
    "   **- If the user enters an invalid quantity (e.g., a negative value or a non-numeric value), display an error message and ask them to re-enter the quantity for that product.**\n",
    "   **- Use a try-except block to handle the error and continue prompting the user until a valid quantity is entered.**\n"
   ]
  },
  {
   "cell_type": "code",
   "execution_count": null,
   "id": "2e9779f2",
   "metadata": {
    "scrolled": false
   },
   "outputs": [],
   "source": [
    "\n",
    "product = ['t-shirt', 'mug', 'hat', 'book', 'keychain']\n",
    "products_updated = {}\n",
    "\n",
    "    \n",
    "def initialize_inventory (products):\n",
    "    inventory = {} \n",
    "    for items in products: \n",
    "        \n",
    "        try:\n",
    "        \n",
    "        unit = int (input (f'How many units are available of {items} ?'))\n",
    "            \n",
    "                if unit == int:\n",
    "                    inventory [items]= unit\n",
    "\n",
    "\n",
    "                else:\n",
    "                    raise ValueError(\"Invalid quantity! Please enter a non-negative value.\")\n",
    "                    unit2 = int (input (f'How many units are available of {items} ?'))\n",
    "\n",
    "                  \n",
    "                \n",
    "        except ValueError as error:\n",
    "                print(f\"Error: {error}\")\n",
    "        \n",
    "        \n",
    "    \n",
    "    return inventory\n",
    "\n",
    "\n",
    "initialize_inventory(product)\n"
   ]
  },
  {
   "cell_type": "code",
   "execution_count": null,
   "id": "92435201",
   "metadata": {},
   "outputs": [],
   "source": [
    "#FIRST VERSION\n",
    "product = ['t-shirt', 'mug', 'hat', 'book', 'keychain']\n",
    "products_updated = {}\n",
    "\n",
    "\n",
    "def initialize_inventory(products):\n",
    "    inventory = {}\n",
    "    for item in products:\n",
    "        valid_input = False  # Flag to control the loop\n",
    "        \n",
    "        \n",
    "    \n",
    "        \n",
    "        while not valid_input:\n",
    "            try:\n",
    "                unit = int(input(f'How many units are available for {item}? '))\n",
    "                if unit >= 0:\n",
    "                    \n",
    "                    valid_input = True  # Flag to control the loop\n",
    "                    inventory[item] = unit\n",
    "                    \n",
    "                    \n",
    "                    \n",
    "                    \n",
    "                else:\n",
    "                    raise ValueError(\"Invalid quantity! Please enter a non-negative value.\")\n",
    "            except ValueError as error:\n",
    "                 print(f\"Error: {error}\")\n",
    "    return inventory\n",
    "\n",
    "initialize_inventory(product)\n",
    "\n"
   ]
  },
  {
   "cell_type": "code",
   "execution_count": null,
   "id": "f052111f",
   "metadata": {},
   "outputs": [],
   "source": [
    "#SECOND VERISON SIMPLIFIED\n",
    "product = ['t-shirt', 'mug', 'hat', 'book', 'keychain']\n",
    "\n",
    "def initialize_inventory(products):\n",
    "    inventory = {}\n",
    "\n",
    "    for item in products:\n",
    "        \n",
    "        while True:\n",
    "            try:\n",
    "                unit = int(input(f'How many units are available for {item}? '))\n",
    "                if unit >= 0:\n",
    "                    inventory[item] = unit\n",
    "                    break  # Exit the loop if a valid input is provided\n",
    "                else:\n",
    "                    print(\"Invalid quantity! Please enter a non-negative value.\")\n",
    "            except ValueError:\n",
    "                print(\"Invalid input! Please enter a numeric value.\")\n",
    "    \n",
    "    return inventory\n",
    "\n",
    "initialize_inventory(product)"
   ]
  },
  {
   "cell_type": "markdown",
   "id": "14676b0b",
   "metadata": {},
   "source": [
    "**2. Modify the `calculate_total_price` function to include error handling**\n",
    "\n",
    "   **- If the user enters an invalid price (e.g., a negative value or a non-numeric value), display an error message and ask them to re-enter the price for that product.**\n",
    "   \n",
    "   **Use a try-except block to handle the error and continue prompting the user until a valid price is entered.**\n"
   ]
  },
  {
   "cell_type": "code",
   "execution_count": null,
   "id": "aee106ee",
   "metadata": {},
   "outputs": [],
   "source": [
    "\n",
    "\n"
   ]
  },
  {
   "cell_type": "markdown",
   "id": "acaa945e",
   "metadata": {},
   "source": [
    "**3. Modify the `get_customer_orders` function to include error handling.**\n",
    "\n",
    "   **- If the user enters an invalid number of orders (e.g., a negative value or a non-numeric value), display an error message and ask them to re-enter the number of orders.**\n",
    "   \n",
    "   **-If the user enters an invalid product name (e.g., a product name that is not in the inventory), or that doesn't have stock available, display an error message and ask them to re-enter the product name. Hint: you will need to pass inventory as a parameter**\n",
    "   \n",
    "   **- Use a try-except block to handle the error and continue prompting the user until a valid product name is entered.**\n"
   ]
  },
  {
   "cell_type": "code",
   "execution_count": null,
   "id": "415fc9e4",
   "metadata": {},
   "outputs": [],
   "source": []
  },
  {
   "cell_type": "code",
   "execution_count": null,
   "id": "bc38dfbb",
   "metadata": {},
   "outputs": [],
   "source": [
    "product = ['t-shirt', 'mug', 'hat', 'book', 'keychain']\n",
    "\n",
    "def calculate_total_price(customer_order):\n",
    "    total_price = 0\n",
    "    for item in customer_order:\n",
    "        \n",
    "        \n",
    "        valid_input = False  ##we assume is false (null value)\n",
    "        while not valid_input: ##as long as it is value, enter this loop\n",
    "            \n",
    "            \n",
    "            \n",
    "            try:\n",
    "                price = float(input(f\"What is the price of this {item} ?\"))\n",
    "                if price>=0:\n",
    "                        total_price += price\n",
    "                        \n",
    "                        \n",
    "\n",
    "                        valid_input = True ##\n",
    "                        \n",
    "                        \n",
    "                else:\n",
    "                        print('That is a negative number.Please enter a valid figure.')\n",
    "            except:\n",
    "                print(\"Non valid input. We dont have that item in the inventory\")\n",
    "\n",
    "\n",
    "    return total_price\n",
    "\n",
    "\n",
    "calculate_total_price(product)"
   ]
  },
  {
   "cell_type": "code",
   "execution_count": null,
   "id": "2f4b2bfa",
   "metadata": {},
   "outputs": [],
   "source": []
  },
  {
   "cell_type": "markdown",
   "id": "d0469334",
   "metadata": {},
   "source": [
    "**4. Test your code by running the program and deliberately entering invalid quantities and product names. Make sure the error handling mechanism works as expected.**\n"
   ]
  },
  {
   "cell_type": "code",
   "execution_count": null,
   "id": "a8cf05c8",
   "metadata": {},
   "outputs": [],
   "source": [
    "product = ['t-shirt', 'mug', 'hat', 'book', 'keychain']\n",
    "\n",
    "def calculate_total_price(customer_order):\n",
    "    total_price = 0\n",
    "    for item in customer_order:\n",
    "        \n",
    "        \n",
    "        valid_input = False  ##we assume is false (null value)\n",
    "        while not valid_input: ##as long as it is value, enter this loop\n",
    "            \n",
    "            \n",
    "            \n",
    "            try:\n",
    "                price = float(input(f\"What is the price of this {item} ?\"))\n",
    "                if price>=0:\n",
    "                        total_price += price\n",
    "                        \n",
    "                        \n",
    "\n",
    "                        valid_input = True ##\n",
    "                        \n",
    "                        \n",
    "                else:\n",
    "                        print('That is a negative number.Please enter a valid figure.')\n",
    "            except:\n",
    "                print(\"Non valid input. We dont have that item in the inventory\")\n",
    "\n",
    "\n",
    "    return total_price\n",
    "\n",
    "\n",
    "calculate_total_price(product)"
   ]
  },
  {
   "cell_type": "code",
   "execution_count": null,
   "id": "a84e1cc3",
   "metadata": {},
   "outputs": [],
   "source": []
  },
  {
   "cell_type": "code",
   "execution_count": null,
   "id": "b4266f08",
   "metadata": {},
   "outputs": [],
   "source": []
  },
  {
   "cell_type": "code",
   "execution_count": null,
   "id": "85341ce5",
   "metadata": {},
   "outputs": [],
   "source": []
  },
  {
   "cell_type": "markdown",
   "id": "88f238f4",
   "metadata": {},
   "source": []
  }
 ],
 "metadata": {
  "kernelspec": {
   "display_name": "Python 3 (ipykernel)",
   "language": "python",
   "name": "python3"
  },
  "language_info": {
   "codemirror_mode": {
    "name": "ipython",
    "version": 3
   },
   "file_extension": ".py",
   "mimetype": "text/x-python",
   "name": "python",
   "nbconvert_exporter": "python",
   "pygments_lexer": "ipython3",
   "version": "3.11.4"
  }
 },
 "nbformat": 4,
 "nbformat_minor": 5
}
